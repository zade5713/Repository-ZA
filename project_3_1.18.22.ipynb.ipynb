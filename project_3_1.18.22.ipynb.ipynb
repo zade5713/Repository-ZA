{
  "nbformat": 4,
  "nbformat_minor": 0,
  "metadata": {
    "colab": {
      "name": "project 3. ipynb",
      "provenance": [],
      "collapsed_sections": [],
      "authorship_tag": "ABX9TyNfA4sq9qFgBGMJcCoZ3UuK",
      "include_colab_link": true
    },
    "kernelspec": {
      "name": "python3",
      "display_name": "Python 3"
    },
    "language_info": {
      "name": "python"
    }
  },
  "cells": [
    {
      "cell_type": "markdown",
      "metadata": {
        "id": "view-in-github",
        "colab_type": "text"
      },
      "source": [
        "<a href=\"https://colab.research.google.com/github/zade5713/Repository-ZA/blob/main/project_3_1.18.22.ipynb.ipynb\" target=\"_parent\"><img src=\"https://colab.research.google.com/assets/colab-badge.svg\" alt=\"Open In Colab\"/></a>"
      ]
    },
    {
      "cell_type": "code",
      "execution_count": 1,
      "metadata": {
        "id": "WAxQ47fq7xgS"
      },
      "outputs": [],
      "source": [
        "import pandas as pd"
      ]
    },
    {
      "cell_type": "code",
      "source": [
        "import seaborn as sns"
      ],
      "metadata": {
        "id": "zTETwJQ28tWy"
      },
      "execution_count": 2,
      "outputs": []
    },
    {
      "cell_type": "code",
      "source": [
        "%matplotlib inline"
      ],
      "metadata": {
        "id": "L9dcVgM78v8z"
      },
      "execution_count": 3,
      "outputs": []
    },
    {
      "cell_type": "code",
      "source": [
        "import numpy as np"
      ],
      "metadata": {
        "id": "n3InXB9-80pR"
      },
      "execution_count": 4,
      "outputs": []
    },
    {
      "cell_type": "code",
      "source": [
        "import matplotlib.pyplot as plot"
      ],
      "metadata": {
        "id": "riRO0YUY83hH"
      },
      "execution_count": 5,
      "outputs": []
    },
    {
      "cell_type": "code",
      "source": [
        "df=pd.read_csv('https://raw.githubusercontent.com/zade5713/zade5713/main/NYPD_Arrest_Data__Year_to_Date_.csv')"
      ],
      "metadata": {
        "id": "MRjPpy_G_rY6"
      },
      "execution_count": 6,
      "outputs": []
    },
    {
      "cell_type": "code",
      "source": [
        "df.head()"
      ],
      "metadata": {
        "colab": {
          "base_uri": "https://localhost:8080/",
          "height": 513
        },
        "id": "y8hvVJfzAGJF",
        "outputId": "53310f28-a064-4179-f038-c4d9ed20c2cb"
      },
      "execution_count": 7,
      "outputs": [
        {
          "output_type": "execute_result",
          "data": {
            "text/html": [
              "\n",
              "  <div id=\"df-ea9faea5-2c39-4388-a283-5cbbe4a73800\">\n",
              "    <div class=\"colab-df-container\">\n",
              "      <div>\n",
              "<style scoped>\n",
              "    .dataframe tbody tr th:only-of-type {\n",
              "        vertical-align: middle;\n",
              "    }\n",
              "\n",
              "    .dataframe tbody tr th {\n",
              "        vertical-align: top;\n",
              "    }\n",
              "\n",
              "    .dataframe thead th {\n",
              "        text-align: right;\n",
              "    }\n",
              "</style>\n",
              "<table border=\"1\" class=\"dataframe\">\n",
              "  <thead>\n",
              "    <tr style=\"text-align: right;\">\n",
              "      <th></th>\n",
              "      <th>ARREST_KEY</th>\n",
              "      <th>ARREST_DATE</th>\n",
              "      <th>PD_CD</th>\n",
              "      <th>PD_DESC</th>\n",
              "      <th>KY_CD</th>\n",
              "      <th>OFNS_DESC</th>\n",
              "      <th>LAW_CODE</th>\n",
              "      <th>LAW_CAT_CD</th>\n",
              "      <th>ARREST_BORO</th>\n",
              "      <th>ARREST_PRECINCT</th>\n",
              "      <th>JURISDICTION_CODE</th>\n",
              "      <th>AGE_GROUP</th>\n",
              "      <th>PERP_SEX</th>\n",
              "      <th>PERP_RACE</th>\n",
              "      <th>X_COORD_CD</th>\n",
              "      <th>Y_COORD_CD</th>\n",
              "      <th>Latitude</th>\n",
              "      <th>Longitude</th>\n",
              "      <th>New Georeferenced Column</th>\n",
              "    </tr>\n",
              "  </thead>\n",
              "  <tbody>\n",
              "    <tr>\n",
              "      <th>0</th>\n",
              "      <td>234233843</td>\n",
              "      <td>09/29/2021</td>\n",
              "      <td>105.0</td>\n",
              "      <td>STRANGULATION 1ST</td>\n",
              "      <td>106.0</td>\n",
              "      <td>FELONY ASSAULT</td>\n",
              "      <td>PL 1211200</td>\n",
              "      <td>F</td>\n",
              "      <td>B</td>\n",
              "      <td>42</td>\n",
              "      <td>0</td>\n",
              "      <td>25-44</td>\n",
              "      <td>M</td>\n",
              "      <td>BLACK</td>\n",
              "      <td>1009231</td>\n",
              "      <td>240290</td>\n",
              "      <td>40.826189</td>\n",
              "      <td>-73.909738</td>\n",
              "      <td>POINT (-73.90973778899996 40.82618898100003)</td>\n",
              "    </tr>\n",
              "    <tr>\n",
              "      <th>1</th>\n",
              "      <td>234129823</td>\n",
              "      <td>09/27/2021</td>\n",
              "      <td>157.0</td>\n",
              "      <td>RAPE 1</td>\n",
              "      <td>104.0</td>\n",
              "      <td>RAPE</td>\n",
              "      <td>PL 1303501</td>\n",
              "      <td>F</td>\n",
              "      <td>K</td>\n",
              "      <td>77</td>\n",
              "      <td>0</td>\n",
              "      <td>25-44</td>\n",
              "      <td>M</td>\n",
              "      <td>BLACK</td>\n",
              "      <td>1003606</td>\n",
              "      <td>185050</td>\n",
              "      <td>40.674583</td>\n",
              "      <td>-73.930222</td>\n",
              "      <td>POINT (-73.93022154099998 40.67458330800008)</td>\n",
              "    </tr>\n",
              "    <tr>\n",
              "      <th>2</th>\n",
              "      <td>234040747</td>\n",
              "      <td>09/25/2021</td>\n",
              "      <td>109.0</td>\n",
              "      <td>ASSAULT 2,1,UNCLASSIFIED</td>\n",
              "      <td>106.0</td>\n",
              "      <td>FELONY ASSAULT</td>\n",
              "      <td>PL 1200501</td>\n",
              "      <td>F</td>\n",
              "      <td>Q</td>\n",
              "      <td>101</td>\n",
              "      <td>0</td>\n",
              "      <td>25-44</td>\n",
              "      <td>M</td>\n",
              "      <td>BLACK</td>\n",
              "      <td>1049232</td>\n",
              "      <td>159210</td>\n",
              "      <td>40.603441</td>\n",
              "      <td>-73.765986</td>\n",
              "      <td>POINT (-73.76598558899997 40.60344094100003)</td>\n",
              "    </tr>\n",
              "    <tr>\n",
              "      <th>3</th>\n",
              "      <td>234047720</td>\n",
              "      <td>09/25/2021</td>\n",
              "      <td>101.0</td>\n",
              "      <td>ASSAULT 3</td>\n",
              "      <td>344.0</td>\n",
              "      <td>ASSAULT 3 &amp; RELATED OFFENSES</td>\n",
              "      <td>PL 1200001</td>\n",
              "      <td>M</td>\n",
              "      <td>B</td>\n",
              "      <td>44</td>\n",
              "      <td>0</td>\n",
              "      <td>25-44</td>\n",
              "      <td>M</td>\n",
              "      <td>BLACK</td>\n",
              "      <td>1006537</td>\n",
              "      <td>244511</td>\n",
              "      <td>40.837782</td>\n",
              "      <td>-73.919458</td>\n",
              "      <td>POINT (-73.91945797099999 40.83778161800007)</td>\n",
              "    </tr>\n",
              "    <tr>\n",
              "      <th>4</th>\n",
              "      <td>234042526</td>\n",
              "      <td>09/25/2021</td>\n",
              "      <td>101.0</td>\n",
              "      <td>ASSAULT 3</td>\n",
              "      <td>344.0</td>\n",
              "      <td>ASSAULT 3 &amp; RELATED OFFENSES</td>\n",
              "      <td>PL 1200001</td>\n",
              "      <td>M</td>\n",
              "      <td>B</td>\n",
              "      <td>44</td>\n",
              "      <td>0</td>\n",
              "      <td>25-44</td>\n",
              "      <td>M</td>\n",
              "      <td>BLACK</td>\n",
              "      <td>1007418</td>\n",
              "      <td>243859</td>\n",
              "      <td>40.835990</td>\n",
              "      <td>-73.916276</td>\n",
              "      <td>POINT (-73.91627635999998 40.83598980000005)</td>\n",
              "    </tr>\n",
              "  </tbody>\n",
              "</table>\n",
              "</div>\n",
              "      <button class=\"colab-df-convert\" onclick=\"convertToInteractive('df-ea9faea5-2c39-4388-a283-5cbbe4a73800')\"\n",
              "              title=\"Convert this dataframe to an interactive table.\"\n",
              "              style=\"display:none;\">\n",
              "        \n",
              "  <svg xmlns=\"http://www.w3.org/2000/svg\" height=\"24px\"viewBox=\"0 0 24 24\"\n",
              "       width=\"24px\">\n",
              "    <path d=\"M0 0h24v24H0V0z\" fill=\"none\"/>\n",
              "    <path d=\"M18.56 5.44l.94 2.06.94-2.06 2.06-.94-2.06-.94-.94-2.06-.94 2.06-2.06.94zm-11 1L8.5 8.5l.94-2.06 2.06-.94-2.06-.94L8.5 2.5l-.94 2.06-2.06.94zm10 10l.94 2.06.94-2.06 2.06-.94-2.06-.94-.94-2.06-.94 2.06-2.06.94z\"/><path d=\"M17.41 7.96l-1.37-1.37c-.4-.4-.92-.59-1.43-.59-.52 0-1.04.2-1.43.59L10.3 9.45l-7.72 7.72c-.78.78-.78 2.05 0 2.83L4 21.41c.39.39.9.59 1.41.59.51 0 1.02-.2 1.41-.59l7.78-7.78 2.81-2.81c.8-.78.8-2.07 0-2.86zM5.41 20L4 18.59l7.72-7.72 1.47 1.35L5.41 20z\"/>\n",
              "  </svg>\n",
              "      </button>\n",
              "      \n",
              "  <style>\n",
              "    .colab-df-container {\n",
              "      display:flex;\n",
              "      flex-wrap:wrap;\n",
              "      gap: 12px;\n",
              "    }\n",
              "\n",
              "    .colab-df-convert {\n",
              "      background-color: #E8F0FE;\n",
              "      border: none;\n",
              "      border-radius: 50%;\n",
              "      cursor: pointer;\n",
              "      display: none;\n",
              "      fill: #1967D2;\n",
              "      height: 32px;\n",
              "      padding: 0 0 0 0;\n",
              "      width: 32px;\n",
              "    }\n",
              "\n",
              "    .colab-df-convert:hover {\n",
              "      background-color: #E2EBFA;\n",
              "      box-shadow: 0px 1px 2px rgba(60, 64, 67, 0.3), 0px 1px 3px 1px rgba(60, 64, 67, 0.15);\n",
              "      fill: #174EA6;\n",
              "    }\n",
              "\n",
              "    [theme=dark] .colab-df-convert {\n",
              "      background-color: #3B4455;\n",
              "      fill: #D2E3FC;\n",
              "    }\n",
              "\n",
              "    [theme=dark] .colab-df-convert:hover {\n",
              "      background-color: #434B5C;\n",
              "      box-shadow: 0px 1px 3px 1px rgba(0, 0, 0, 0.15);\n",
              "      filter: drop-shadow(0px 1px 2px rgba(0, 0, 0, 0.3));\n",
              "      fill: #FFFFFF;\n",
              "    }\n",
              "  </style>\n",
              "\n",
              "      <script>\n",
              "        const buttonEl =\n",
              "          document.querySelector('#df-ea9faea5-2c39-4388-a283-5cbbe4a73800 button.colab-df-convert');\n",
              "        buttonEl.style.display =\n",
              "          google.colab.kernel.accessAllowed ? 'block' : 'none';\n",
              "\n",
              "        async function convertToInteractive(key) {\n",
              "          const element = document.querySelector('#df-ea9faea5-2c39-4388-a283-5cbbe4a73800');\n",
              "          const dataTable =\n",
              "            await google.colab.kernel.invokeFunction('convertToInteractive',\n",
              "                                                     [key], {});\n",
              "          if (!dataTable) return;\n",
              "\n",
              "          const docLinkHtml = 'Like what you see? Visit the ' +\n",
              "            '<a target=\"_blank\" href=https://colab.research.google.com/notebooks/data_table.ipynb>data table notebook</a>'\n",
              "            + ' to learn more about interactive tables.';\n",
              "          element.innerHTML = '';\n",
              "          dataTable['output_type'] = 'display_data';\n",
              "          await google.colab.output.renderOutput(dataTable, element);\n",
              "          const docLink = document.createElement('div');\n",
              "          docLink.innerHTML = docLinkHtml;\n",
              "          element.appendChild(docLink);\n",
              "        }\n",
              "      </script>\n",
              "    </div>\n",
              "  </div>\n",
              "  "
            ],
            "text/plain": [
              "   ARREST_KEY  ...                      New Georeferenced Column\n",
              "0   234233843  ...  POINT (-73.90973778899996 40.82618898100003)\n",
              "1   234129823  ...  POINT (-73.93022154099998 40.67458330800008)\n",
              "2   234040747  ...  POINT (-73.76598558899997 40.60344094100003)\n",
              "3   234047720  ...  POINT (-73.91945797099999 40.83778161800007)\n",
              "4   234042526  ...  POINT (-73.91627635999998 40.83598980000005)\n",
              "\n",
              "[5 rows x 19 columns]"
            ]
          },
          "metadata": {},
          "execution_count": 7
        }
      ]
    },
    {
      "cell_type": "code",
      "source": [
        "df.tail()"
      ],
      "metadata": {
        "colab": {
          "base_uri": "https://localhost:8080/",
          "height": 496
        },
        "id": "axli_8jFcRly",
        "outputId": "a3ec4b33-2df4-45ee-cca8-2aa58ad09088"
      },
      "execution_count": 8,
      "outputs": [
        {
          "output_type": "execute_result",
          "data": {
            "text/html": [
              "\n",
              "  <div id=\"df-98e59dcc-6d93-4770-bd1c-1547b784b203\">\n",
              "    <div class=\"colab-df-container\">\n",
              "      <div>\n",
              "<style scoped>\n",
              "    .dataframe tbody tr th:only-of-type {\n",
              "        vertical-align: middle;\n",
              "    }\n",
              "\n",
              "    .dataframe tbody tr th {\n",
              "        vertical-align: top;\n",
              "    }\n",
              "\n",
              "    .dataframe thead th {\n",
              "        text-align: right;\n",
              "    }\n",
              "</style>\n",
              "<table border=\"1\" class=\"dataframe\">\n",
              "  <thead>\n",
              "    <tr style=\"text-align: right;\">\n",
              "      <th></th>\n",
              "      <th>ARREST_KEY</th>\n",
              "      <th>ARREST_DATE</th>\n",
              "      <th>PD_CD</th>\n",
              "      <th>PD_DESC</th>\n",
              "      <th>KY_CD</th>\n",
              "      <th>OFNS_DESC</th>\n",
              "      <th>LAW_CODE</th>\n",
              "      <th>LAW_CAT_CD</th>\n",
              "      <th>ARREST_BORO</th>\n",
              "      <th>ARREST_PRECINCT</th>\n",
              "      <th>JURISDICTION_CODE</th>\n",
              "      <th>AGE_GROUP</th>\n",
              "      <th>PERP_SEX</th>\n",
              "      <th>PERP_RACE</th>\n",
              "      <th>X_COORD_CD</th>\n",
              "      <th>Y_COORD_CD</th>\n",
              "      <th>Latitude</th>\n",
              "      <th>Longitude</th>\n",
              "      <th>New Georeferenced Column</th>\n",
              "    </tr>\n",
              "  </thead>\n",
              "  <tbody>\n",
              "    <tr>\n",
              "      <th>115294</th>\n",
              "      <td>222689440</td>\n",
              "      <td>01/06/2021</td>\n",
              "      <td>109.0</td>\n",
              "      <td>ASSAULT 2,1,UNCLASSIFIED</td>\n",
              "      <td>106.0</td>\n",
              "      <td>FELONY ASSAULT</td>\n",
              "      <td>PL 1200501</td>\n",
              "      <td>F</td>\n",
              "      <td>Q</td>\n",
              "      <td>102</td>\n",
              "      <td>0</td>\n",
              "      <td>18-24</td>\n",
              "      <td>M</td>\n",
              "      <td>ASIAN / PACIFIC ISLANDER</td>\n",
              "      <td>1031076</td>\n",
              "      <td>193779</td>\n",
              "      <td>40.698440</td>\n",
              "      <td>-73.831130</td>\n",
              "      <td>POINT (-73.83112953899997 40.69843969400005)</td>\n",
              "    </tr>\n",
              "    <tr>\n",
              "      <th>115295</th>\n",
              "      <td>222626401</td>\n",
              "      <td>01/05/2021</td>\n",
              "      <td>109.0</td>\n",
              "      <td>ASSAULT 2,1,UNCLASSIFIED</td>\n",
              "      <td>106.0</td>\n",
              "      <td>FELONY ASSAULT</td>\n",
              "      <td>PL 1200502</td>\n",
              "      <td>F</td>\n",
              "      <td>B</td>\n",
              "      <td>49</td>\n",
              "      <td>0</td>\n",
              "      <td>25-44</td>\n",
              "      <td>M</td>\n",
              "      <td>BLACK HISPANIC</td>\n",
              "      <td>1027430</td>\n",
              "      <td>251105</td>\n",
              "      <td>40.855803</td>\n",
              "      <td>-73.843910</td>\n",
              "      <td>POINT (-73.84390995399998 40.85580274300003)</td>\n",
              "    </tr>\n",
              "    <tr>\n",
              "      <th>115296</th>\n",
              "      <td>222477062</td>\n",
              "      <td>01/01/2021</td>\n",
              "      <td>922.0</td>\n",
              "      <td>TRAFFIC,UNCLASSIFIED MISDEMEAN</td>\n",
              "      <td>348.0</td>\n",
              "      <td>VEHICLE AND TRAFFIC LAWS</td>\n",
              "      <td>VTL0511001</td>\n",
              "      <td>M</td>\n",
              "      <td>B</td>\n",
              "      <td>50</td>\n",
              "      <td>0</td>\n",
              "      <td>25-44</td>\n",
              "      <td>M</td>\n",
              "      <td>WHITE HISPANIC</td>\n",
              "      <td>1011047</td>\n",
              "      <td>256269</td>\n",
              "      <td>40.870041</td>\n",
              "      <td>-73.903112</td>\n",
              "      <td>POINT (-73.90311219699998 40.870041281000056)</td>\n",
              "    </tr>\n",
              "    <tr>\n",
              "      <th>115297</th>\n",
              "      <td>222728174</td>\n",
              "      <td>01/07/2021</td>\n",
              "      <td>339.0</td>\n",
              "      <td>LARCENY,PETIT FROM OPEN AREAS,</td>\n",
              "      <td>341.0</td>\n",
              "      <td>PETIT LARCENY</td>\n",
              "      <td>PL 1552500</td>\n",
              "      <td>M</td>\n",
              "      <td>Q</td>\n",
              "      <td>114</td>\n",
              "      <td>0</td>\n",
              "      <td>25-44</td>\n",
              "      <td>M</td>\n",
              "      <td>WHITE HISPANIC</td>\n",
              "      <td>1007694</td>\n",
              "      <td>219657</td>\n",
              "      <td>40.769561</td>\n",
              "      <td>-73.915363</td>\n",
              "      <td>POINT (-73.91536344699995 40.76956124200007)</td>\n",
              "    </tr>\n",
              "    <tr>\n",
              "      <th>115298</th>\n",
              "      <td>222535613</td>\n",
              "      <td>01/03/2021</td>\n",
              "      <td>792.0</td>\n",
              "      <td>WEAPONS POSSESSION 1 &amp; 2</td>\n",
              "      <td>118.0</td>\n",
              "      <td>DANGEROUS WEAPONS</td>\n",
              "      <td>PL 265031B</td>\n",
              "      <td>F</td>\n",
              "      <td>K</td>\n",
              "      <td>67</td>\n",
              "      <td>0</td>\n",
              "      <td>25-44</td>\n",
              "      <td>M</td>\n",
              "      <td>BLACK</td>\n",
              "      <td>1000054</td>\n",
              "      <td>173952</td>\n",
              "      <td>40.644129</td>\n",
              "      <td>-73.943053</td>\n",
              "      <td>POINT (-73.94305278599995 40.64412879400004)</td>\n",
              "    </tr>\n",
              "  </tbody>\n",
              "</table>\n",
              "</div>\n",
              "      <button class=\"colab-df-convert\" onclick=\"convertToInteractive('df-98e59dcc-6d93-4770-bd1c-1547b784b203')\"\n",
              "              title=\"Convert this dataframe to an interactive table.\"\n",
              "              style=\"display:none;\">\n",
              "        \n",
              "  <svg xmlns=\"http://www.w3.org/2000/svg\" height=\"24px\"viewBox=\"0 0 24 24\"\n",
              "       width=\"24px\">\n",
              "    <path d=\"M0 0h24v24H0V0z\" fill=\"none\"/>\n",
              "    <path d=\"M18.56 5.44l.94 2.06.94-2.06 2.06-.94-2.06-.94-.94-2.06-.94 2.06-2.06.94zm-11 1L8.5 8.5l.94-2.06 2.06-.94-2.06-.94L8.5 2.5l-.94 2.06-2.06.94zm10 10l.94 2.06.94-2.06 2.06-.94-2.06-.94-.94-2.06-.94 2.06-2.06.94z\"/><path d=\"M17.41 7.96l-1.37-1.37c-.4-.4-.92-.59-1.43-.59-.52 0-1.04.2-1.43.59L10.3 9.45l-7.72 7.72c-.78.78-.78 2.05 0 2.83L4 21.41c.39.39.9.59 1.41.59.51 0 1.02-.2 1.41-.59l7.78-7.78 2.81-2.81c.8-.78.8-2.07 0-2.86zM5.41 20L4 18.59l7.72-7.72 1.47 1.35L5.41 20z\"/>\n",
              "  </svg>\n",
              "      </button>\n",
              "      \n",
              "  <style>\n",
              "    .colab-df-container {\n",
              "      display:flex;\n",
              "      flex-wrap:wrap;\n",
              "      gap: 12px;\n",
              "    }\n",
              "\n",
              "    .colab-df-convert {\n",
              "      background-color: #E8F0FE;\n",
              "      border: none;\n",
              "      border-radius: 50%;\n",
              "      cursor: pointer;\n",
              "      display: none;\n",
              "      fill: #1967D2;\n",
              "      height: 32px;\n",
              "      padding: 0 0 0 0;\n",
              "      width: 32px;\n",
              "    }\n",
              "\n",
              "    .colab-df-convert:hover {\n",
              "      background-color: #E2EBFA;\n",
              "      box-shadow: 0px 1px 2px rgba(60, 64, 67, 0.3), 0px 1px 3px 1px rgba(60, 64, 67, 0.15);\n",
              "      fill: #174EA6;\n",
              "    }\n",
              "\n",
              "    [theme=dark] .colab-df-convert {\n",
              "      background-color: #3B4455;\n",
              "      fill: #D2E3FC;\n",
              "    }\n",
              "\n",
              "    [theme=dark] .colab-df-convert:hover {\n",
              "      background-color: #434B5C;\n",
              "      box-shadow: 0px 1px 3px 1px rgba(0, 0, 0, 0.15);\n",
              "      filter: drop-shadow(0px 1px 2px rgba(0, 0, 0, 0.3));\n",
              "      fill: #FFFFFF;\n",
              "    }\n",
              "  </style>\n",
              "\n",
              "      <script>\n",
              "        const buttonEl =\n",
              "          document.querySelector('#df-98e59dcc-6d93-4770-bd1c-1547b784b203 button.colab-df-convert');\n",
              "        buttonEl.style.display =\n",
              "          google.colab.kernel.accessAllowed ? 'block' : 'none';\n",
              "\n",
              "        async function convertToInteractive(key) {\n",
              "          const element = document.querySelector('#df-98e59dcc-6d93-4770-bd1c-1547b784b203');\n",
              "          const dataTable =\n",
              "            await google.colab.kernel.invokeFunction('convertToInteractive',\n",
              "                                                     [key], {});\n",
              "          if (!dataTable) return;\n",
              "\n",
              "          const docLinkHtml = 'Like what you see? Visit the ' +\n",
              "            '<a target=\"_blank\" href=https://colab.research.google.com/notebooks/data_table.ipynb>data table notebook</a>'\n",
              "            + ' to learn more about interactive tables.';\n",
              "          element.innerHTML = '';\n",
              "          dataTable['output_type'] = 'display_data';\n",
              "          await google.colab.output.renderOutput(dataTable, element);\n",
              "          const docLink = document.createElement('div');\n",
              "          docLink.innerHTML = docLinkHtml;\n",
              "          element.appendChild(docLink);\n",
              "        }\n",
              "      </script>\n",
              "    </div>\n",
              "  </div>\n",
              "  "
            ],
            "text/plain": [
              "        ARREST_KEY  ...                       New Georeferenced Column\n",
              "115294   222689440  ...   POINT (-73.83112953899997 40.69843969400005)\n",
              "115295   222626401  ...   POINT (-73.84390995399998 40.85580274300003)\n",
              "115296   222477062  ...  POINT (-73.90311219699998 40.870041281000056)\n",
              "115297   222728174  ...   POINT (-73.91536344699995 40.76956124200007)\n",
              "115298   222535613  ...   POINT (-73.94305278599995 40.64412879400004)\n",
              "\n",
              "[5 rows x 19 columns]"
            ]
          },
          "metadata": {},
          "execution_count": 8
        }
      ]
    },
    {
      "cell_type": "markdown",
      "source": [
        "Checking to see what was arrest type had the max amount arrests."
      ],
      "metadata": {
        "id": "FXBblkapctXK"
      }
    },
    {
      "cell_type": "code",
      "source": [
        "df[\"PD_DESC\"].max"
      ],
      "metadata": {
        "colab": {
          "base_uri": "https://localhost:8080/"
        },
        "id": "4axNHm9lcdng",
        "outputId": "c8e179dc-cf54-471d-9083-354caf1769e9"
      },
      "execution_count": 9,
      "outputs": [
        {
          "output_type": "execute_result",
          "data": {
            "text/plain": [
              "<bound method Series.max of 0                      STRANGULATION 1ST\n",
              "1                                 RAPE 1\n",
              "2               ASSAULT 2,1,UNCLASSIFIED\n",
              "3                              ASSAULT 3\n",
              "4                              ASSAULT 3\n",
              "                       ...              \n",
              "115294          ASSAULT 2,1,UNCLASSIFIED\n",
              "115295          ASSAULT 2,1,UNCLASSIFIED\n",
              "115296    TRAFFIC,UNCLASSIFIED MISDEMEAN\n",
              "115297    LARCENY,PETIT FROM OPEN AREAS,\n",
              "115298          WEAPONS POSSESSION 1 & 2\n",
              "Name: PD_DESC, Length: 115299, dtype: object>"
            ]
          },
          "metadata": {},
          "execution_count": 9
        }
      ]
    },
    {
      "cell_type": "code",
      "source": [
        "df[\"PD_DESC\"].min"
      ],
      "metadata": {
        "colab": {
          "base_uri": "https://localhost:8080/"
        },
        "id": "mnjkegzle3aI",
        "outputId": "dd5b62fa-99a0-4030-c369-5b0e63d185ac"
      },
      "execution_count": 10,
      "outputs": [
        {
          "output_type": "execute_result",
          "data": {
            "text/plain": [
              "<bound method Series.min of 0                      STRANGULATION 1ST\n",
              "1                                 RAPE 1\n",
              "2               ASSAULT 2,1,UNCLASSIFIED\n",
              "3                              ASSAULT 3\n",
              "4                              ASSAULT 3\n",
              "                       ...              \n",
              "115294          ASSAULT 2,1,UNCLASSIFIED\n",
              "115295          ASSAULT 2,1,UNCLASSIFIED\n",
              "115296    TRAFFIC,UNCLASSIFIED MISDEMEAN\n",
              "115297    LARCENY,PETIT FROM OPEN AREAS,\n",
              "115298          WEAPONS POSSESSION 1 & 2\n",
              "Name: PD_DESC, Length: 115299, dtype: object>"
            ]
          },
          "metadata": {},
          "execution_count": 10
        }
      ]
    },
    {
      "cell_type": "code",
      "source": [
        "df.columns"
      ],
      "metadata": {
        "colab": {
          "base_uri": "https://localhost:8080/"
        },
        "id": "0ZS-siPxfTWz",
        "outputId": "b72ab95d-b8a9-4da0-f579-5cfbea01f08e"
      },
      "execution_count": 11,
      "outputs": [
        {
          "output_type": "execute_result",
          "data": {
            "text/plain": [
              "Index(['ARREST_KEY', 'ARREST_DATE', 'PD_CD', 'PD_DESC', 'KY_CD', 'OFNS_DESC',\n",
              "       'LAW_CODE', 'LAW_CAT_CD', 'ARREST_BORO', 'ARREST_PRECINCT',\n",
              "       'JURISDICTION_CODE', 'AGE_GROUP', 'PERP_SEX', 'PERP_RACE', 'X_COORD_CD',\n",
              "       'Y_COORD_CD', 'Latitude', 'Longitude', 'New Georeferenced Column'],\n",
              "      dtype='object')"
            ]
          },
          "metadata": {},
          "execution_count": 11
        }
      ]
    },
    {
      "cell_type": "code",
      "source": [
        "df.info"
      ],
      "metadata": {
        "colab": {
          "base_uri": "https://localhost:8080/"
        },
        "id": "FB4xVr9wnfTi",
        "outputId": "4d9722b7-28a9-420d-b05c-0ba89a732795"
      },
      "execution_count": 12,
      "outputs": [
        {
          "output_type": "execute_result",
          "data": {
            "text/plain": [
              "<bound method DataFrame.info of         ARREST_KEY  ...                       New Georeferenced Column\n",
              "0        234233843  ...   POINT (-73.90973778899996 40.82618898100003)\n",
              "1        234129823  ...   POINT (-73.93022154099998 40.67458330800008)\n",
              "2        234040747  ...   POINT (-73.76598558899997 40.60344094100003)\n",
              "3        234047720  ...   POINT (-73.91945797099999 40.83778161800007)\n",
              "4        234042526  ...   POINT (-73.91627635999998 40.83598980000005)\n",
              "...            ...  ...                                            ...\n",
              "115294   222689440  ...   POINT (-73.83112953899997 40.69843969400005)\n",
              "115295   222626401  ...   POINT (-73.84390995399998 40.85580274300003)\n",
              "115296   222477062  ...  POINT (-73.90311219699998 40.870041281000056)\n",
              "115297   222728174  ...   POINT (-73.91536344699995 40.76956124200007)\n",
              "115298   222535613  ...   POINT (-73.94305278599995 40.64412879400004)\n",
              "\n",
              "[115299 rows x 19 columns]>"
            ]
          },
          "metadata": {},
          "execution_count": 12
        }
      ]
    },
    {
      "cell_type": "code",
      "source": [
        "trying to find the borough with the least and most amount of arrest."
      ],
      "metadata": {
        "id": "5n8e4-cApCbU",
        "colab": {
          "base_uri": "https://localhost:8080/",
          "height": 131
        },
        "outputId": "664bfd2b-2173-4f85-f0c9-41f94015b96f"
      },
      "execution_count": 13,
      "outputs": [
        {
          "output_type": "error",
          "ename": "SyntaxError",
          "evalue": "ignored",
          "traceback": [
            "\u001b[0;36m  File \u001b[0;32m\"<ipython-input-13-fc41d84767ce>\"\u001b[0;36m, line \u001b[0;32m1\u001b[0m\n\u001b[0;31m    trying to find the borough with the least and most amount of arrest.\u001b[0m\n\u001b[0m            ^\u001b[0m\n\u001b[0;31mSyntaxError\u001b[0m\u001b[0;31m:\u001b[0m invalid syntax\n"
          ]
        }
      ]
    },
    {
      "cell_type": "code",
      "source": [
        "df[\"ARREST_BORO\"].max()"
      ],
      "metadata": {
        "colab": {
          "base_uri": "https://localhost:8080/",
          "height": 35
        },
        "id": "N3CDiywanhzx",
        "outputId": "db3ffd69-392a-4360-855a-ebd203301a8e"
      },
      "execution_count": 14,
      "outputs": [
        {
          "output_type": "execute_result",
          "data": {
            "application/vnd.google.colaboratory.intrinsic+json": {
              "type": "string"
            },
            "text/plain": [
              "'S'"
            ]
          },
          "metadata": {},
          "execution_count": 14
        }
      ]
    },
    {
      "cell_type": "code",
      "source": [
        "df[\"ARREST_BORO\"].min()"
      ],
      "metadata": {
        "colab": {
          "base_uri": "https://localhost:8080/",
          "height": 35
        },
        "id": "tMik9YuGozb6",
        "outputId": "cc6e2eab-19a2-41bb-f100-bf4ead4e0fd1"
      },
      "execution_count": 15,
      "outputs": [
        {
          "output_type": "execute_result",
          "data": {
            "application/vnd.google.colaboratory.intrinsic+json": {
              "type": "string"
            },
            "text/plain": [
              "'B'"
            ]
          },
          "metadata": {},
          "execution_count": 15
        }
      ]
    },
    {
      "cell_type": "code",
      "source": [
        "df[\"ARREST_BORO\"].unique()"
      ],
      "metadata": {
        "colab": {
          "base_uri": "https://localhost:8080/"
        },
        "id": "1t5FusksrR7K",
        "outputId": "d060544f-185e-460f-d192-00c88be73856"
      },
      "execution_count": 16,
      "outputs": [
        {
          "output_type": "execute_result",
          "data": {
            "text/plain": [
              "array(['B', 'K', 'Q', 'M', 'S'], dtype=object)"
            ]
          },
          "metadata": {},
          "execution_count": 16
        }
      ]
    },
    {
      "cell_type": "code",
      "source": [
        "trying to find the age that has the most and least amount of arrest"
      ],
      "metadata": {
        "id": "cfbhJrqqq7jA",
        "colab": {
          "base_uri": "https://localhost:8080/",
          "height": 131
        },
        "outputId": "3744bdd5-7a9b-4586-8d1a-75bf24451032"
      },
      "execution_count": 17,
      "outputs": [
        {
          "output_type": "error",
          "ename": "SyntaxError",
          "evalue": "ignored",
          "traceback": [
            "\u001b[0;36m  File \u001b[0;32m\"<ipython-input-17-0b2654a1e237>\"\u001b[0;36m, line \u001b[0;32m1\u001b[0m\n\u001b[0;31m    trying to find the age that has the most and least amount of arrest\u001b[0m\n\u001b[0m            ^\u001b[0m\n\u001b[0;31mSyntaxError\u001b[0m\u001b[0;31m:\u001b[0m invalid syntax\n"
          ]
        }
      ]
    },
    {
      "cell_type": "code",
      "source": [
        "df[\"AGE_GROUP\"].max()"
      ],
      "metadata": {
        "colab": {
          "base_uri": "https://localhost:8080/",
          "height": 35
        },
        "id": "o5UvPm3gpKp-",
        "outputId": "6374ea5a-745b-4f1a-f605-69b13d5b2c9d"
      },
      "execution_count": 18,
      "outputs": [
        {
          "output_type": "execute_result",
          "data": {
            "application/vnd.google.colaboratory.intrinsic+json": {
              "type": "string"
            },
            "text/plain": [
              "'<18'"
            ]
          },
          "metadata": {},
          "execution_count": 18
        }
      ]
    },
    {
      "cell_type": "code",
      "source": [
        "df[\"AGE_GROUP\"].min()"
      ],
      "metadata": {
        "colab": {
          "base_uri": "https://localhost:8080/",
          "height": 35
        },
        "id": "6fwjTbHapveQ",
        "outputId": "bd8a45c8-c0f8-4cff-9736-1da732f5c788"
      },
      "execution_count": 19,
      "outputs": [
        {
          "output_type": "execute_result",
          "data": {
            "application/vnd.google.colaboratory.intrinsic+json": {
              "type": "string"
            },
            "text/plain": [
              "'18-24'"
            ]
          },
          "metadata": {},
          "execution_count": 19
        }
      ]
    },
    {
      "cell_type": "code",
      "source": [
        "df[\"AGE_GROUP\"].unique"
      ],
      "metadata": {
        "colab": {
          "base_uri": "https://localhost:8080/"
        },
        "id": "5mUD9h9Xq0Yf",
        "outputId": "aae43171-b4b7-446e-f2bf-77b9a405d4ce"
      },
      "execution_count": 20,
      "outputs": [
        {
          "output_type": "execute_result",
          "data": {
            "text/plain": [
              "<bound method Series.unique of 0         25-44\n",
              "1         25-44\n",
              "2         25-44\n",
              "3         25-44\n",
              "4         25-44\n",
              "          ...  \n",
              "115294    18-24\n",
              "115295    25-44\n",
              "115296    25-44\n",
              "115297    25-44\n",
              "115298    25-44\n",
              "Name: AGE_GROUP, Length: 115299, dtype: object>"
            ]
          },
          "metadata": {},
          "execution_count": 20
        }
      ]
    },
    {
      "cell_type": "code",
      "source": [
        "With playing with the data I decided "
      ],
      "metadata": {
        "id": "x-G29A3Ls7JP"
      },
      "execution_count": null,
      "outputs": []
    },
    {
      "cell_type": "code",
      "source": [
        "df_arrest_boro_index= df.set_index(\"ARREST_BORO\")"
      ],
      "metadata": {
        "id": "74rdvetrrAkE"
      },
      "execution_count": 21,
      "outputs": []
    },
    {
      "cell_type": "code",
      "source": [
        "df_k= df_arrest_boro_index.loc[\"K\"]"
      ],
      "metadata": {
        "id": "nu2YzowIsNqx"
      },
      "execution_count": 27,
      "outputs": []
    },
    {
      "cell_type": "code",
      "source": [
        "df_k.head()"
      ],
      "metadata": {
        "colab": {
          "base_uri": "https://localhost:8080/",
          "height": 510
        },
        "id": "_Kf77lQass_t",
        "outputId": "6f87d8a6-f987-4538-ce52-1a1779f932f6"
      },
      "execution_count": 29,
      "outputs": [
        {
          "output_type": "execute_result",
          "data": {
            "text/html": [
              "\n",
              "  <div id=\"df-9ac2aae1-7722-471f-9635-33b2253923d5\">\n",
              "    <div class=\"colab-df-container\">\n",
              "      <div>\n",
              "<style scoped>\n",
              "    .dataframe tbody tr th:only-of-type {\n",
              "        vertical-align: middle;\n",
              "    }\n",
              "\n",
              "    .dataframe tbody tr th {\n",
              "        vertical-align: top;\n",
              "    }\n",
              "\n",
              "    .dataframe thead th {\n",
              "        text-align: right;\n",
              "    }\n",
              "</style>\n",
              "<table border=\"1\" class=\"dataframe\">\n",
              "  <thead>\n",
              "    <tr style=\"text-align: right;\">\n",
              "      <th></th>\n",
              "      <th>ARREST_KEY</th>\n",
              "      <th>ARREST_DATE</th>\n",
              "      <th>PD_CD</th>\n",
              "      <th>PD_DESC</th>\n",
              "      <th>KY_CD</th>\n",
              "      <th>OFNS_DESC</th>\n",
              "      <th>LAW_CODE</th>\n",
              "      <th>LAW_CAT_CD</th>\n",
              "      <th>ARREST_PRECINCT</th>\n",
              "      <th>JURISDICTION_CODE</th>\n",
              "      <th>AGE_GROUP</th>\n",
              "      <th>PERP_SEX</th>\n",
              "      <th>PERP_RACE</th>\n",
              "      <th>X_COORD_CD</th>\n",
              "      <th>Y_COORD_CD</th>\n",
              "      <th>Latitude</th>\n",
              "      <th>Longitude</th>\n",
              "      <th>New Georeferenced Column</th>\n",
              "    </tr>\n",
              "    <tr>\n",
              "      <th>ARREST_BORO</th>\n",
              "      <th></th>\n",
              "      <th></th>\n",
              "      <th></th>\n",
              "      <th></th>\n",
              "      <th></th>\n",
              "      <th></th>\n",
              "      <th></th>\n",
              "      <th></th>\n",
              "      <th></th>\n",
              "      <th></th>\n",
              "      <th></th>\n",
              "      <th></th>\n",
              "      <th></th>\n",
              "      <th></th>\n",
              "      <th></th>\n",
              "      <th></th>\n",
              "      <th></th>\n",
              "      <th></th>\n",
              "    </tr>\n",
              "  </thead>\n",
              "  <tbody>\n",
              "    <tr>\n",
              "      <th>K</th>\n",
              "      <td>234129823</td>\n",
              "      <td>09/27/2021</td>\n",
              "      <td>157.0</td>\n",
              "      <td>RAPE 1</td>\n",
              "      <td>104.0</td>\n",
              "      <td>RAPE</td>\n",
              "      <td>PL 1303501</td>\n",
              "      <td>F</td>\n",
              "      <td>77</td>\n",
              "      <td>0</td>\n",
              "      <td>25-44</td>\n",
              "      <td>M</td>\n",
              "      <td>BLACK</td>\n",
              "      <td>1003606</td>\n",
              "      <td>185050</td>\n",
              "      <td>40.674583</td>\n",
              "      <td>-73.930222</td>\n",
              "      <td>POINT (-73.93022154099998 40.67458330800008)</td>\n",
              "    </tr>\n",
              "    <tr>\n",
              "      <th>K</th>\n",
              "      <td>233952333</td>\n",
              "      <td>09/23/2021</td>\n",
              "      <td>397.0</td>\n",
              "      <td>ROBBERY,OPEN AREA UNCLASSIFIED</td>\n",
              "      <td>105.0</td>\n",
              "      <td>ROBBERY</td>\n",
              "      <td>PL 1600500</td>\n",
              "      <td>F</td>\n",
              "      <td>75</td>\n",
              "      <td>0</td>\n",
              "      <td>18-24</td>\n",
              "      <td>M</td>\n",
              "      <td>BLACK</td>\n",
              "      <td>1017119</td>\n",
              "      <td>183909</td>\n",
              "      <td>40.671412</td>\n",
              "      <td>-73.881512</td>\n",
              "      <td>POINT (-73.88151172399995 40.67141166300007)</td>\n",
              "    </tr>\n",
              "    <tr>\n",
              "      <th>K</th>\n",
              "      <td>233647454</td>\n",
              "      <td>09/16/2021</td>\n",
              "      <td>397.0</td>\n",
              "      <td>ROBBERY,OPEN AREA UNCLASSIFIED</td>\n",
              "      <td>105.0</td>\n",
              "      <td>ROBBERY</td>\n",
              "      <td>PL 1601503</td>\n",
              "      <td>F</td>\n",
              "      <td>61</td>\n",
              "      <td>0</td>\n",
              "      <td>18-24</td>\n",
              "      <td>M</td>\n",
              "      <td>BLACK</td>\n",
              "      <td>995834</td>\n",
              "      <td>161062</td>\n",
              "      <td>40.608755</td>\n",
              "      <td>-73.958281</td>\n",
              "      <td>POINT (-73.95828138999997 40.60875497300003)</td>\n",
              "    </tr>\n",
              "    <tr>\n",
              "      <th>K</th>\n",
              "      <td>232808098</td>\n",
              "      <td>08/27/2021</td>\n",
              "      <td>157.0</td>\n",
              "      <td>RAPE 1</td>\n",
              "      <td>104.0</td>\n",
              "      <td>RAPE</td>\n",
              "      <td>PL 1303504</td>\n",
              "      <td>F</td>\n",
              "      <td>77</td>\n",
              "      <td>0</td>\n",
              "      <td>45-64</td>\n",
              "      <td>M</td>\n",
              "      <td>WHITE HISPANIC</td>\n",
              "      <td>1003606</td>\n",
              "      <td>185050</td>\n",
              "      <td>40.674583</td>\n",
              "      <td>-73.930222</td>\n",
              "      <td>POINT (-73.93022154099998 40.67458330800008)</td>\n",
              "    </tr>\n",
              "    <tr>\n",
              "      <th>K</th>\n",
              "      <td>232644643</td>\n",
              "      <td>08/24/2021</td>\n",
              "      <td>153.0</td>\n",
              "      <td>RAPE 3</td>\n",
              "      <td>104.0</td>\n",
              "      <td>RAPE</td>\n",
              "      <td>PL 1302503</td>\n",
              "      <td>F</td>\n",
              "      <td>77</td>\n",
              "      <td>0</td>\n",
              "      <td>25-44</td>\n",
              "      <td>M</td>\n",
              "      <td>BLACK</td>\n",
              "      <td>1003606</td>\n",
              "      <td>185050</td>\n",
              "      <td>40.674583</td>\n",
              "      <td>-73.930222</td>\n",
              "      <td>POINT (-73.93022154099998 40.67458330800008)</td>\n",
              "    </tr>\n",
              "  </tbody>\n",
              "</table>\n",
              "</div>\n",
              "      <button class=\"colab-df-convert\" onclick=\"convertToInteractive('df-9ac2aae1-7722-471f-9635-33b2253923d5')\"\n",
              "              title=\"Convert this dataframe to an interactive table.\"\n",
              "              style=\"display:none;\">\n",
              "        \n",
              "  <svg xmlns=\"http://www.w3.org/2000/svg\" height=\"24px\"viewBox=\"0 0 24 24\"\n",
              "       width=\"24px\">\n",
              "    <path d=\"M0 0h24v24H0V0z\" fill=\"none\"/>\n",
              "    <path d=\"M18.56 5.44l.94 2.06.94-2.06 2.06-.94-2.06-.94-.94-2.06-.94 2.06-2.06.94zm-11 1L8.5 8.5l.94-2.06 2.06-.94-2.06-.94L8.5 2.5l-.94 2.06-2.06.94zm10 10l.94 2.06.94-2.06 2.06-.94-2.06-.94-.94-2.06-.94 2.06-2.06.94z\"/><path d=\"M17.41 7.96l-1.37-1.37c-.4-.4-.92-.59-1.43-.59-.52 0-1.04.2-1.43.59L10.3 9.45l-7.72 7.72c-.78.78-.78 2.05 0 2.83L4 21.41c.39.39.9.59 1.41.59.51 0 1.02-.2 1.41-.59l7.78-7.78 2.81-2.81c.8-.78.8-2.07 0-2.86zM5.41 20L4 18.59l7.72-7.72 1.47 1.35L5.41 20z\"/>\n",
              "  </svg>\n",
              "      </button>\n",
              "      \n",
              "  <style>\n",
              "    .colab-df-container {\n",
              "      display:flex;\n",
              "      flex-wrap:wrap;\n",
              "      gap: 12px;\n",
              "    }\n",
              "\n",
              "    .colab-df-convert {\n",
              "      background-color: #E8F0FE;\n",
              "      border: none;\n",
              "      border-radius: 50%;\n",
              "      cursor: pointer;\n",
              "      display: none;\n",
              "      fill: #1967D2;\n",
              "      height: 32px;\n",
              "      padding: 0 0 0 0;\n",
              "      width: 32px;\n",
              "    }\n",
              "\n",
              "    .colab-df-convert:hover {\n",
              "      background-color: #E2EBFA;\n",
              "      box-shadow: 0px 1px 2px rgba(60, 64, 67, 0.3), 0px 1px 3px 1px rgba(60, 64, 67, 0.15);\n",
              "      fill: #174EA6;\n",
              "    }\n",
              "\n",
              "    [theme=dark] .colab-df-convert {\n",
              "      background-color: #3B4455;\n",
              "      fill: #D2E3FC;\n",
              "    }\n",
              "\n",
              "    [theme=dark] .colab-df-convert:hover {\n",
              "      background-color: #434B5C;\n",
              "      box-shadow: 0px 1px 3px 1px rgba(0, 0, 0, 0.15);\n",
              "      filter: drop-shadow(0px 1px 2px rgba(0, 0, 0, 0.3));\n",
              "      fill: #FFFFFF;\n",
              "    }\n",
              "  </style>\n",
              "\n",
              "      <script>\n",
              "        const buttonEl =\n",
              "          document.querySelector('#df-9ac2aae1-7722-471f-9635-33b2253923d5 button.colab-df-convert');\n",
              "        buttonEl.style.display =\n",
              "          google.colab.kernel.accessAllowed ? 'block' : 'none';\n",
              "\n",
              "        async function convertToInteractive(key) {\n",
              "          const element = document.querySelector('#df-9ac2aae1-7722-471f-9635-33b2253923d5');\n",
              "          const dataTable =\n",
              "            await google.colab.kernel.invokeFunction('convertToInteractive',\n",
              "                                                     [key], {});\n",
              "          if (!dataTable) return;\n",
              "\n",
              "          const docLinkHtml = 'Like what you see? Visit the ' +\n",
              "            '<a target=\"_blank\" href=https://colab.research.google.com/notebooks/data_table.ipynb>data table notebook</a>'\n",
              "            + ' to learn more about interactive tables.';\n",
              "          element.innerHTML = '';\n",
              "          dataTable['output_type'] = 'display_data';\n",
              "          await google.colab.output.renderOutput(dataTable, element);\n",
              "          const docLink = document.createElement('div');\n",
              "          docLink.innerHTML = docLinkHtml;\n",
              "          element.appendChild(docLink);\n",
              "        }\n",
              "      </script>\n",
              "    </div>\n",
              "  </div>\n",
              "  "
            ],
            "text/plain": [
              "             ARREST_KEY  ...                      New Georeferenced Column\n",
              "ARREST_BORO              ...                                              \n",
              "K             234129823  ...  POINT (-73.93022154099998 40.67458330800008)\n",
              "K             233952333  ...  POINT (-73.88151172399995 40.67141166300007)\n",
              "K             233647454  ...  POINT (-73.95828138999997 40.60875497300003)\n",
              "K             232808098  ...  POINT (-73.93022154099998 40.67458330800008)\n",
              "K             232644643  ...  POINT (-73.93022154099998 40.67458330800008)\n",
              "\n",
              "[5 rows x 18 columns]"
            ]
          },
          "metadata": {},
          "execution_count": 29
        }
      ]
    },
    {
      "cell_type": "code",
      "source": [
        "df_k.tail()"
      ],
      "metadata": {
        "colab": {
          "base_uri": "https://localhost:8080/",
          "height": 510
        },
        "id": "DXSyPb4sG1RF",
        "outputId": "747c1867-19cc-4920-b823-f49729406484"
      },
      "execution_count": 42,
      "outputs": [
        {
          "output_type": "execute_result",
          "data": {
            "text/html": [
              "\n",
              "  <div id=\"df-940bcdc1-fb33-4c03-8565-7e072b0eb89f\">\n",
              "    <div class=\"colab-df-container\">\n",
              "      <div>\n",
              "<style scoped>\n",
              "    .dataframe tbody tr th:only-of-type {\n",
              "        vertical-align: middle;\n",
              "    }\n",
              "\n",
              "    .dataframe tbody tr th {\n",
              "        vertical-align: top;\n",
              "    }\n",
              "\n",
              "    .dataframe thead th {\n",
              "        text-align: right;\n",
              "    }\n",
              "</style>\n",
              "<table border=\"1\" class=\"dataframe\">\n",
              "  <thead>\n",
              "    <tr style=\"text-align: right;\">\n",
              "      <th></th>\n",
              "      <th>ARREST_KEY</th>\n",
              "      <th>ARREST_DATE</th>\n",
              "      <th>PD_CD</th>\n",
              "      <th>PD_DESC</th>\n",
              "      <th>KY_CD</th>\n",
              "      <th>OFNS_DESC</th>\n",
              "      <th>LAW_CODE</th>\n",
              "      <th>LAW_CAT_CD</th>\n",
              "      <th>ARREST_PRECINCT</th>\n",
              "      <th>JURISDICTION_CODE</th>\n",
              "      <th>AGE_GROUP</th>\n",
              "      <th>PERP_SEX</th>\n",
              "      <th>PERP_RACE</th>\n",
              "      <th>X_COORD_CD</th>\n",
              "      <th>Y_COORD_CD</th>\n",
              "      <th>Latitude</th>\n",
              "      <th>Longitude</th>\n",
              "      <th>New Georeferenced Column</th>\n",
              "    </tr>\n",
              "    <tr>\n",
              "      <th>ARREST_BORO</th>\n",
              "      <th></th>\n",
              "      <th></th>\n",
              "      <th></th>\n",
              "      <th></th>\n",
              "      <th></th>\n",
              "      <th></th>\n",
              "      <th></th>\n",
              "      <th></th>\n",
              "      <th></th>\n",
              "      <th></th>\n",
              "      <th></th>\n",
              "      <th></th>\n",
              "      <th></th>\n",
              "      <th></th>\n",
              "      <th></th>\n",
              "      <th></th>\n",
              "      <th></th>\n",
              "      <th></th>\n",
              "    </tr>\n",
              "  </thead>\n",
              "  <tbody>\n",
              "    <tr>\n",
              "      <th>K</th>\n",
              "      <td>222689429</td>\n",
              "      <td>01/06/2021</td>\n",
              "      <td>503.0</td>\n",
              "      <td>CONTROLLED SUBSTANCE,INTENT TO</td>\n",
              "      <td>117.0</td>\n",
              "      <td>DANGEROUS DRUGS</td>\n",
              "      <td>PL 2201601</td>\n",
              "      <td>F</td>\n",
              "      <td>83</td>\n",
              "      <td>0</td>\n",
              "      <td>25-44</td>\n",
              "      <td>M</td>\n",
              "      <td>BLACK</td>\n",
              "      <td>1010160</td>\n",
              "      <td>191024</td>\n",
              "      <td>40.690964</td>\n",
              "      <td>-73.906571</td>\n",
              "      <td>POINT (-73.90657090099995 40.69096381500003)</td>\n",
              "    </tr>\n",
              "    <tr>\n",
              "      <th>K</th>\n",
              "      <td>222694034</td>\n",
              "      <td>01/06/2021</td>\n",
              "      <td>106.0</td>\n",
              "      <td>ASSAULT POLICE/PEACE OFFICER</td>\n",
              "      <td>106.0</td>\n",
              "      <td>FELONY ASSAULT</td>\n",
              "      <td>PL 1200800</td>\n",
              "      <td>F</td>\n",
              "      <td>71</td>\n",
              "      <td>97</td>\n",
              "      <td>25-44</td>\n",
              "      <td>M</td>\n",
              "      <td>BLACK</td>\n",
              "      <td>1001154</td>\n",
              "      <td>178314</td>\n",
              "      <td>40.656100</td>\n",
              "      <td>-73.939078</td>\n",
              "      <td>POINT (-73.93907807899996 40.656099505000036)</td>\n",
              "    </tr>\n",
              "    <tr>\n",
              "      <th>K</th>\n",
              "      <td>222813466</td>\n",
              "      <td>01/08/2021</td>\n",
              "      <td>779.0</td>\n",
              "      <td>PUBLIC ADMINISTRATION,UNCLASSI</td>\n",
              "      <td>126.0</td>\n",
              "      <td>MISCELLANEOUS PENAL LAW</td>\n",
              "      <td>PL 215510B</td>\n",
              "      <td>F</td>\n",
              "      <td>72</td>\n",
              "      <td>0</td>\n",
              "      <td>45-64</td>\n",
              "      <td>F</td>\n",
              "      <td>WHITE HISPANIC</td>\n",
              "      <td>986929</td>\n",
              "      <td>180045</td>\n",
              "      <td>40.660866</td>\n",
              "      <td>-73.990345</td>\n",
              "      <td>POINT (-73.99034542499999 40.66086644800004)</td>\n",
              "    </tr>\n",
              "    <tr>\n",
              "      <th>K</th>\n",
              "      <td>222488044</td>\n",
              "      <td>01/01/2021</td>\n",
              "      <td>105.0</td>\n",
              "      <td>STRANGULATION 1ST</td>\n",
              "      <td>106.0</td>\n",
              "      <td>FELONY ASSAULT</td>\n",
              "      <td>PL 1211300</td>\n",
              "      <td>F</td>\n",
              "      <td>77</td>\n",
              "      <td>0</td>\n",
              "      <td>25-44</td>\n",
              "      <td>M</td>\n",
              "      <td>BLACK</td>\n",
              "      <td>1003508</td>\n",
              "      <td>185056</td>\n",
              "      <td>40.674600</td>\n",
              "      <td>-73.930575</td>\n",
              "      <td>POINT (-73.93057482199998 40.67459999000005)</td>\n",
              "    </tr>\n",
              "    <tr>\n",
              "      <th>K</th>\n",
              "      <td>222535613</td>\n",
              "      <td>01/03/2021</td>\n",
              "      <td>792.0</td>\n",
              "      <td>WEAPONS POSSESSION 1 &amp; 2</td>\n",
              "      <td>118.0</td>\n",
              "      <td>DANGEROUS WEAPONS</td>\n",
              "      <td>PL 265031B</td>\n",
              "      <td>F</td>\n",
              "      <td>67</td>\n",
              "      <td>0</td>\n",
              "      <td>25-44</td>\n",
              "      <td>M</td>\n",
              "      <td>BLACK</td>\n",
              "      <td>1000054</td>\n",
              "      <td>173952</td>\n",
              "      <td>40.644129</td>\n",
              "      <td>-73.943053</td>\n",
              "      <td>POINT (-73.94305278599995 40.64412879400004)</td>\n",
              "    </tr>\n",
              "  </tbody>\n",
              "</table>\n",
              "</div>\n",
              "      <button class=\"colab-df-convert\" onclick=\"convertToInteractive('df-940bcdc1-fb33-4c03-8565-7e072b0eb89f')\"\n",
              "              title=\"Convert this dataframe to an interactive table.\"\n",
              "              style=\"display:none;\">\n",
              "        \n",
              "  <svg xmlns=\"http://www.w3.org/2000/svg\" height=\"24px\"viewBox=\"0 0 24 24\"\n",
              "       width=\"24px\">\n",
              "    <path d=\"M0 0h24v24H0V0z\" fill=\"none\"/>\n",
              "    <path d=\"M18.56 5.44l.94 2.06.94-2.06 2.06-.94-2.06-.94-.94-2.06-.94 2.06-2.06.94zm-11 1L8.5 8.5l.94-2.06 2.06-.94-2.06-.94L8.5 2.5l-.94 2.06-2.06.94zm10 10l.94 2.06.94-2.06 2.06-.94-2.06-.94-.94-2.06-.94 2.06-2.06.94z\"/><path d=\"M17.41 7.96l-1.37-1.37c-.4-.4-.92-.59-1.43-.59-.52 0-1.04.2-1.43.59L10.3 9.45l-7.72 7.72c-.78.78-.78 2.05 0 2.83L4 21.41c.39.39.9.59 1.41.59.51 0 1.02-.2 1.41-.59l7.78-7.78 2.81-2.81c.8-.78.8-2.07 0-2.86zM5.41 20L4 18.59l7.72-7.72 1.47 1.35L5.41 20z\"/>\n",
              "  </svg>\n",
              "      </button>\n",
              "      \n",
              "  <style>\n",
              "    .colab-df-container {\n",
              "      display:flex;\n",
              "      flex-wrap:wrap;\n",
              "      gap: 12px;\n",
              "    }\n",
              "\n",
              "    .colab-df-convert {\n",
              "      background-color: #E8F0FE;\n",
              "      border: none;\n",
              "      border-radius: 50%;\n",
              "      cursor: pointer;\n",
              "      display: none;\n",
              "      fill: #1967D2;\n",
              "      height: 32px;\n",
              "      padding: 0 0 0 0;\n",
              "      width: 32px;\n",
              "    }\n",
              "\n",
              "    .colab-df-convert:hover {\n",
              "      background-color: #E2EBFA;\n",
              "      box-shadow: 0px 1px 2px rgba(60, 64, 67, 0.3), 0px 1px 3px 1px rgba(60, 64, 67, 0.15);\n",
              "      fill: #174EA6;\n",
              "    }\n",
              "\n",
              "    [theme=dark] .colab-df-convert {\n",
              "      background-color: #3B4455;\n",
              "      fill: #D2E3FC;\n",
              "    }\n",
              "\n",
              "    [theme=dark] .colab-df-convert:hover {\n",
              "      background-color: #434B5C;\n",
              "      box-shadow: 0px 1px 3px 1px rgba(0, 0, 0, 0.15);\n",
              "      filter: drop-shadow(0px 1px 2px rgba(0, 0, 0, 0.3));\n",
              "      fill: #FFFFFF;\n",
              "    }\n",
              "  </style>\n",
              "\n",
              "      <script>\n",
              "        const buttonEl =\n",
              "          document.querySelector('#df-940bcdc1-fb33-4c03-8565-7e072b0eb89f button.colab-df-convert');\n",
              "        buttonEl.style.display =\n",
              "          google.colab.kernel.accessAllowed ? 'block' : 'none';\n",
              "\n",
              "        async function convertToInteractive(key) {\n",
              "          const element = document.querySelector('#df-940bcdc1-fb33-4c03-8565-7e072b0eb89f');\n",
              "          const dataTable =\n",
              "            await google.colab.kernel.invokeFunction('convertToInteractive',\n",
              "                                                     [key], {});\n",
              "          if (!dataTable) return;\n",
              "\n",
              "          const docLinkHtml = 'Like what you see? Visit the ' +\n",
              "            '<a target=\"_blank\" href=https://colab.research.google.com/notebooks/data_table.ipynb>data table notebook</a>'\n",
              "            + ' to learn more about interactive tables.';\n",
              "          element.innerHTML = '';\n",
              "          dataTable['output_type'] = 'display_data';\n",
              "          await google.colab.output.renderOutput(dataTable, element);\n",
              "          const docLink = document.createElement('div');\n",
              "          docLink.innerHTML = docLinkHtml;\n",
              "          element.appendChild(docLink);\n",
              "        }\n",
              "      </script>\n",
              "    </div>\n",
              "  </div>\n",
              "  "
            ],
            "text/plain": [
              "             ARREST_KEY  ...                       New Georeferenced Column\n",
              "ARREST_BORO              ...                                               \n",
              "K             222689429  ...   POINT (-73.90657090099995 40.69096381500003)\n",
              "K             222694034  ...  POINT (-73.93907807899996 40.656099505000036)\n",
              "K             222813466  ...   POINT (-73.99034542499999 40.66086644800004)\n",
              "K             222488044  ...   POINT (-73.93057482199998 40.67459999000005)\n",
              "K             222535613  ...   POINT (-73.94305278599995 40.64412879400004)\n",
              "\n",
              "[5 rows x 18 columns]"
            ]
          },
          "metadata": {},
          "execution_count": 42
        }
      ]
    },
    {
      "cell_type": "code",
      "source": [
        "df_k.count()"
      ],
      "metadata": {
        "colab": {
          "base_uri": "https://localhost:8080/"
        },
        "id": "w_0PmJwNxBH_",
        "outputId": "af0221ac-ff81-4b2c-f26c-a85a432cad1b"
      },
      "execution_count": 41,
      "outputs": [
        {
          "output_type": "execute_result",
          "data": {
            "text/plain": [
              "ARREST_KEY                  31004\n",
              "ARREST_DATE                 31004\n",
              "PD_CD                       31000\n",
              "PD_DESC                     30988\n",
              "KY_CD                       30988\n",
              "OFNS_DESC                   30988\n",
              "LAW_CODE                    31004\n",
              "LAW_CAT_CD                  30835\n",
              "ARREST_PRECINCT             31004\n",
              "JURISDICTION_CODE           31004\n",
              "AGE_GROUP                   31004\n",
              "PERP_SEX                    31004\n",
              "PERP_RACE                   31004\n",
              "X_COORD_CD                  31004\n",
              "Y_COORD_CD                  31004\n",
              "Latitude                    31004\n",
              "Longitude                   31004\n",
              "New Georeferenced Column    31004\n",
              "dtype: int64"
            ]
          },
          "metadata": {},
          "execution_count": 41
        }
      ]
    },
    {
      "cell_type": "markdown",
      "source": [
        "there are 25,312 arrest for Brooklyn in this time period."
      ],
      "metadata": {
        "id": "4w2QCEK9yMPD"
      }
    },
    {
      "cell_type": "code",
      "source": [
        "I was trying to find out what are the arrest like for black males and females in Brooklyn specfically based on the precinct and age group."
      ],
      "metadata": {
        "id": "Gl5Q2O80GXEe"
      },
      "execution_count": null,
      "outputs": []
    },
    {
      "cell_type": "code",
      "source": [
        "df['ARREST_BORO'].value_counts()"
      ],
      "metadata": {
        "colab": {
          "base_uri": "https://localhost:8080/"
        },
        "id": "YkbyAYUODsBC",
        "outputId": "f6571d66-d94c-43ee-c920-342aa4900b64"
      },
      "execution_count": 26,
      "outputs": [
        {
          "output_type": "execute_result",
          "data": {
            "text/plain": [
              "K    31004\n",
              "M    28948\n",
              "B    25312\n",
              "Q    24654\n",
              "S     5381\n",
              "Name: ARREST_BORO, dtype: int64"
            ]
          },
          "metadata": {},
          "execution_count": 26
        }
      ]
    },
    {
      "cell_type": "code",
      "source": [
        "conditions= [(df['ARREST_BORO']=='K')]"
      ],
      "metadata": {
        "id": "i3Wu2gNaERfW"
      },
      "execution_count": 31,
      "outputs": []
    },
    {
      "cell_type": "code",
      "source": [
        "values=['Brooklyn']"
      ],
      "metadata": {
        "id": "uy85TIaZFCFd"
      },
      "execution_count": 32,
      "outputs": []
    },
    {
      "cell_type": "code",
      "source": [
        "df['ARREST_BORO']= np.select(conditions,values)"
      ],
      "metadata": {
        "id": "pI3hkuv2FI7Y"
      },
      "execution_count": 33,
      "outputs": []
    },
    {
      "cell_type": "code",
      "source": [
        "df['ARREST_BORO'].value_counts()"
      ],
      "metadata": {
        "colab": {
          "base_uri": "https://localhost:8080/"
        },
        "id": "s10J5XWXFUpR",
        "outputId": "9e017676-1889-4246-b5ba-2d666ddf51ac"
      },
      "execution_count": 35,
      "outputs": [
        {
          "output_type": "execute_result",
          "data": {
            "text/plain": [
              "0           84295\n",
              "Brooklyn    31004\n",
              "Name: ARREST_BORO, dtype: int64"
            ]
          },
          "metadata": {},
          "execution_count": 35
        }
      ]
    },
    {
      "cell_type": "code",
      "source": [
        "df2 = df[['ARREST_KEY','ARREST_PRECINCT','PERP_RACE', 'PERP_SEX','ARREST_DATE','AGE_GROUP']]"
      ],
      "metadata": {
        "id": "0y3MkrpGFhjY"
      },
      "execution_count": 37,
      "outputs": []
    },
    {
      "cell_type": "code",
      "source": [
        "df2.head(15)"
      ],
      "metadata": {
        "colab": {
          "base_uri": "https://localhost:8080/",
          "height": 520
        },
        "id": "8KmvdRufGLn6",
        "outputId": "9db5f597-23fa-4ae6-de01-28f9ae960dd2"
      },
      "execution_count": 39,
      "outputs": [
        {
          "output_type": "execute_result",
          "data": {
            "text/html": [
              "\n",
              "  <div id=\"df-97ae94c4-e251-4bb9-b49a-9ddc9f41b0cf\">\n",
              "    <div class=\"colab-df-container\">\n",
              "      <div>\n",
              "<style scoped>\n",
              "    .dataframe tbody tr th:only-of-type {\n",
              "        vertical-align: middle;\n",
              "    }\n",
              "\n",
              "    .dataframe tbody tr th {\n",
              "        vertical-align: top;\n",
              "    }\n",
              "\n",
              "    .dataframe thead th {\n",
              "        text-align: right;\n",
              "    }\n",
              "</style>\n",
              "<table border=\"1\" class=\"dataframe\">\n",
              "  <thead>\n",
              "    <tr style=\"text-align: right;\">\n",
              "      <th></th>\n",
              "      <th>ARREST_KEY</th>\n",
              "      <th>ARREST_PRECINCT</th>\n",
              "      <th>PERP_RACE</th>\n",
              "      <th>PERP_SEX</th>\n",
              "      <th>ARREST_DATE</th>\n",
              "      <th>AGE_GROUP</th>\n",
              "    </tr>\n",
              "  </thead>\n",
              "  <tbody>\n",
              "    <tr>\n",
              "      <th>0</th>\n",
              "      <td>234233843</td>\n",
              "      <td>42</td>\n",
              "      <td>BLACK</td>\n",
              "      <td>M</td>\n",
              "      <td>09/29/2021</td>\n",
              "      <td>25-44</td>\n",
              "    </tr>\n",
              "    <tr>\n",
              "      <th>1</th>\n",
              "      <td>234129823</td>\n",
              "      <td>77</td>\n",
              "      <td>BLACK</td>\n",
              "      <td>M</td>\n",
              "      <td>09/27/2021</td>\n",
              "      <td>25-44</td>\n",
              "    </tr>\n",
              "    <tr>\n",
              "      <th>2</th>\n",
              "      <td>234040747</td>\n",
              "      <td>101</td>\n",
              "      <td>BLACK</td>\n",
              "      <td>M</td>\n",
              "      <td>09/25/2021</td>\n",
              "      <td>25-44</td>\n",
              "    </tr>\n",
              "    <tr>\n",
              "      <th>3</th>\n",
              "      <td>234047720</td>\n",
              "      <td>44</td>\n",
              "      <td>BLACK</td>\n",
              "      <td>M</td>\n",
              "      <td>09/25/2021</td>\n",
              "      <td>25-44</td>\n",
              "    </tr>\n",
              "    <tr>\n",
              "      <th>4</th>\n",
              "      <td>234042526</td>\n",
              "      <td>44</td>\n",
              "      <td>BLACK</td>\n",
              "      <td>M</td>\n",
              "      <td>09/25/2021</td>\n",
              "      <td>25-44</td>\n",
              "    </tr>\n",
              "    <tr>\n",
              "      <th>5</th>\n",
              "      <td>234006839</td>\n",
              "      <td>23</td>\n",
              "      <td>BLACK</td>\n",
              "      <td>M</td>\n",
              "      <td>09/24/2021</td>\n",
              "      <td>25-44</td>\n",
              "    </tr>\n",
              "    <tr>\n",
              "      <th>6</th>\n",
              "      <td>233952333</td>\n",
              "      <td>75</td>\n",
              "      <td>BLACK</td>\n",
              "      <td>M</td>\n",
              "      <td>09/23/2021</td>\n",
              "      <td>18-24</td>\n",
              "    </tr>\n",
              "    <tr>\n",
              "      <th>7</th>\n",
              "      <td>233878488</td>\n",
              "      <td>40</td>\n",
              "      <td>WHITE</td>\n",
              "      <td>M</td>\n",
              "      <td>09/21/2021</td>\n",
              "      <td>25-44</td>\n",
              "    </tr>\n",
              "    <tr>\n",
              "      <th>8</th>\n",
              "      <td>233784866</td>\n",
              "      <td>44</td>\n",
              "      <td>BLACK</td>\n",
              "      <td>F</td>\n",
              "      <td>09/19/2021</td>\n",
              "      <td>25-44</td>\n",
              "    </tr>\n",
              "    <tr>\n",
              "      <th>9</th>\n",
              "      <td>233647454</td>\n",
              "      <td>61</td>\n",
              "      <td>BLACK</td>\n",
              "      <td>M</td>\n",
              "      <td>09/16/2021</td>\n",
              "      <td>18-24</td>\n",
              "    </tr>\n",
              "    <tr>\n",
              "      <th>10</th>\n",
              "      <td>233424190</td>\n",
              "      <td>104</td>\n",
              "      <td>BLACK</td>\n",
              "      <td>M</td>\n",
              "      <td>09/11/2021</td>\n",
              "      <td>25-44</td>\n",
              "    </tr>\n",
              "    <tr>\n",
              "      <th>11</th>\n",
              "      <td>233313873</td>\n",
              "      <td>40</td>\n",
              "      <td>BLACK</td>\n",
              "      <td>M</td>\n",
              "      <td>09/09/2021</td>\n",
              "      <td>45-64</td>\n",
              "    </tr>\n",
              "    <tr>\n",
              "      <th>12</th>\n",
              "      <td>233149743</td>\n",
              "      <td>48</td>\n",
              "      <td>WHITE HISPANIC</td>\n",
              "      <td>M</td>\n",
              "      <td>09/05/2021</td>\n",
              "      <td>45-64</td>\n",
              "    </tr>\n",
              "    <tr>\n",
              "      <th>13</th>\n",
              "      <td>232950216</td>\n",
              "      <td>108</td>\n",
              "      <td>WHITE</td>\n",
              "      <td>M</td>\n",
              "      <td>08/31/2021</td>\n",
              "      <td>25-44</td>\n",
              "    </tr>\n",
              "    <tr>\n",
              "      <th>14</th>\n",
              "      <td>232880758</td>\n",
              "      <td>52</td>\n",
              "      <td>WHITE HISPANIC</td>\n",
              "      <td>M</td>\n",
              "      <td>08/29/2021</td>\n",
              "      <td>25-44</td>\n",
              "    </tr>\n",
              "  </tbody>\n",
              "</table>\n",
              "</div>\n",
              "      <button class=\"colab-df-convert\" onclick=\"convertToInteractive('df-97ae94c4-e251-4bb9-b49a-9ddc9f41b0cf')\"\n",
              "              title=\"Convert this dataframe to an interactive table.\"\n",
              "              style=\"display:none;\">\n",
              "        \n",
              "  <svg xmlns=\"http://www.w3.org/2000/svg\" height=\"24px\"viewBox=\"0 0 24 24\"\n",
              "       width=\"24px\">\n",
              "    <path d=\"M0 0h24v24H0V0z\" fill=\"none\"/>\n",
              "    <path d=\"M18.56 5.44l.94 2.06.94-2.06 2.06-.94-2.06-.94-.94-2.06-.94 2.06-2.06.94zm-11 1L8.5 8.5l.94-2.06 2.06-.94-2.06-.94L8.5 2.5l-.94 2.06-2.06.94zm10 10l.94 2.06.94-2.06 2.06-.94-2.06-.94-.94-2.06-.94 2.06-2.06.94z\"/><path d=\"M17.41 7.96l-1.37-1.37c-.4-.4-.92-.59-1.43-.59-.52 0-1.04.2-1.43.59L10.3 9.45l-7.72 7.72c-.78.78-.78 2.05 0 2.83L4 21.41c.39.39.9.59 1.41.59.51 0 1.02-.2 1.41-.59l7.78-7.78 2.81-2.81c.8-.78.8-2.07 0-2.86zM5.41 20L4 18.59l7.72-7.72 1.47 1.35L5.41 20z\"/>\n",
              "  </svg>\n",
              "      </button>\n",
              "      \n",
              "  <style>\n",
              "    .colab-df-container {\n",
              "      display:flex;\n",
              "      flex-wrap:wrap;\n",
              "      gap: 12px;\n",
              "    }\n",
              "\n",
              "    .colab-df-convert {\n",
              "      background-color: #E8F0FE;\n",
              "      border: none;\n",
              "      border-radius: 50%;\n",
              "      cursor: pointer;\n",
              "      display: none;\n",
              "      fill: #1967D2;\n",
              "      height: 32px;\n",
              "      padding: 0 0 0 0;\n",
              "      width: 32px;\n",
              "    }\n",
              "\n",
              "    .colab-df-convert:hover {\n",
              "      background-color: #E2EBFA;\n",
              "      box-shadow: 0px 1px 2px rgba(60, 64, 67, 0.3), 0px 1px 3px 1px rgba(60, 64, 67, 0.15);\n",
              "      fill: #174EA6;\n",
              "    }\n",
              "\n",
              "    [theme=dark] .colab-df-convert {\n",
              "      background-color: #3B4455;\n",
              "      fill: #D2E3FC;\n",
              "    }\n",
              "\n",
              "    [theme=dark] .colab-df-convert:hover {\n",
              "      background-color: #434B5C;\n",
              "      box-shadow: 0px 1px 3px 1px rgba(0, 0, 0, 0.15);\n",
              "      filter: drop-shadow(0px 1px 2px rgba(0, 0, 0, 0.3));\n",
              "      fill: #FFFFFF;\n",
              "    }\n",
              "  </style>\n",
              "\n",
              "      <script>\n",
              "        const buttonEl =\n",
              "          document.querySelector('#df-97ae94c4-e251-4bb9-b49a-9ddc9f41b0cf button.colab-df-convert');\n",
              "        buttonEl.style.display =\n",
              "          google.colab.kernel.accessAllowed ? 'block' : 'none';\n",
              "\n",
              "        async function convertToInteractive(key) {\n",
              "          const element = document.querySelector('#df-97ae94c4-e251-4bb9-b49a-9ddc9f41b0cf');\n",
              "          const dataTable =\n",
              "            await google.colab.kernel.invokeFunction('convertToInteractive',\n",
              "                                                     [key], {});\n",
              "          if (!dataTable) return;\n",
              "\n",
              "          const docLinkHtml = 'Like what you see? Visit the ' +\n",
              "            '<a target=\"_blank\" href=https://colab.research.google.com/notebooks/data_table.ipynb>data table notebook</a>'\n",
              "            + ' to learn more about interactive tables.';\n",
              "          element.innerHTML = '';\n",
              "          dataTable['output_type'] = 'display_data';\n",
              "          await google.colab.output.renderOutput(dataTable, element);\n",
              "          const docLink = document.createElement('div');\n",
              "          docLink.innerHTML = docLinkHtml;\n",
              "          element.appendChild(docLink);\n",
              "        }\n",
              "      </script>\n",
              "    </div>\n",
              "  </div>\n",
              "  "
            ],
            "text/plain": [
              "    ARREST_KEY  ARREST_PRECINCT       PERP_RACE PERP_SEX ARREST_DATE AGE_GROUP\n",
              "0    234233843               42           BLACK        M  09/29/2021     25-44\n",
              "1    234129823               77           BLACK        M  09/27/2021     25-44\n",
              "2    234040747              101           BLACK        M  09/25/2021     25-44\n",
              "3    234047720               44           BLACK        M  09/25/2021     25-44\n",
              "4    234042526               44           BLACK        M  09/25/2021     25-44\n",
              "5    234006839               23           BLACK        M  09/24/2021     25-44\n",
              "6    233952333               75           BLACK        M  09/23/2021     18-24\n",
              "7    233878488               40           WHITE        M  09/21/2021     25-44\n",
              "8    233784866               44           BLACK        F  09/19/2021     25-44\n",
              "9    233647454               61           BLACK        M  09/16/2021     18-24\n",
              "10   233424190              104           BLACK        M  09/11/2021     25-44\n",
              "11   233313873               40           BLACK        M  09/09/2021     45-64\n",
              "12   233149743               48  WHITE HISPANIC        M  09/05/2021     45-64\n",
              "13   232950216              108           WHITE        M  08/31/2021     25-44\n",
              "14   232880758               52  WHITE HISPANIC        M  08/29/2021     25-44"
            ]
          },
          "metadata": {},
          "execution_count": 39
        }
      ]
    },
    {
      "cell_type": "code",
      "source": [
        "precinct= df2['ARREST_PRECINCT'].value_counts().plot(kind='bar',color=('gold','silver'))"
      ],
      "metadata": {
        "colab": {
          "base_uri": "https://localhost:8080/",
          "height": 274
        },
        "id": "M1Eb1OmvG6Kj",
        "outputId": "de4e2b09-121d-4925-cedb-2c9b78ed86f2"
      },
      "execution_count": 45,
      "outputs": [
        {
          "output_type": "display_data",
          "data": {
            "image/png": "[encoded data removed]",
            "text/plain": [
              "<Figure size 432x288 with 1 Axes>"
            ]
          },
          "metadata": {
            "needs_background": "light"
          }
        }
      ]
    },
    {
      "cell_type": "code",
      "source": [
        "df['ARREST_PRECINCT'].value_counts()"
      ],
      "metadata": {
        "colab": {
          "base_uri": "https://localhost:8080/"
        },
        "id": "AV77LKNtH-TS",
        "outputId": "3454ae8c-aadd-46ce-e8d0-ce9bdf76b4ce"
      },
      "execution_count": 46,
      "outputs": [
        {
          "output_type": "execute_result",
          "data": {
            "text/plain": [
              "14     3301\n",
              "44     3205\n",
              "75     3178\n",
              "40     3040\n",
              "47     2640\n",
              "       ... \n",
              "123     613\n",
              "100     607\n",
              "76      568\n",
              "111     508\n",
              "22       38\n",
              "Name: ARREST_PRECINCT, Length: 77, dtype: int64"
            ]
          },
          "metadata": {},
          "execution_count": 46
        }
      ]
    },
    {
      "cell_type": "code",
      "source": [
        "datedata= df2.groupby(['ARREST_PRECINCT'])['PERP_RACE'].count().plot(kind='bar',)"
      ],
      "metadata": {
        "colab": {
          "base_uri": "https://localhost:8080/",
          "height": 289
        },
        "id": "dsrNUojFIK3o",
        "outputId": "560e192c-6ab4-4d86-8cef-0e0ba03ca461"
      },
      "execution_count": 50,
      "outputs": [
        {
          "output_type": "display_data",
          "data": {
            "image/png": "[encoded data removed]",
            "text/plain": [
              "<Figure size 432x288 with 1 Axes>"
            ]
          },
          "metadata": {
            "needs_background": "light"
          }
        }
      ]
    },
    {
      "cell_type": "code",
      "source": [
        "plt=(['ARREST_PRECINCT']), ['PERP_RACE']"
      ],
      "metadata": {
        "id": "L3Q9qdMnJuoj"
      },
      "execution_count": 57,
      "outputs": []
    },
    {
      "cell_type": "code",
      "source": [
        "plt=(['ARREST_PRECINCT']), ['PERP_RACE']\n",
        "p = sns.countplot(x=df2.ARREST_PRECINCT, hue=df2.PERP_RACE)"
      ],
      "metadata": {
        "colab": {
          "base_uri": "https://localhost:8080/",
          "height": 280
        },
        "id": "DeeLoOZDJAoB",
        "outputId": "2635da4c-2988-4933-f10a-147aa1b53004"
      },
      "execution_count": 62,
      "outputs": [
        {
          "output_type": "display_data",
          "data": {
            "image/png": "[encoded data removed]",
            "text/plain": [
              "<Figure size 432x288 with 1 Axes>"
            ]
          },
          "metadata": {
            "needs_background": "light"
          }
        }
      ]
    },
    {
      "cell_type": "code",
      "source": [
        ""
      ],
      "metadata": {
        "id": "WcRFX71nKjEJ"
      },
      "execution_count": null,
      "outputs": []
    }
  ]
}